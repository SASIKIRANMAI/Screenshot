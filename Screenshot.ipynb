{
 "cells": [
  {
   "cell_type": "code",
   "execution_count": null,
   "id": "185d950b-53d2-4e81-9ca1-b2b433896501",
   "metadata": {},
   "outputs": [],
   "source": [
    "from PIL import ImageGrab\n",
    "\n",
    "import random\n",
    "\n",
    "import time\n",
    "\n",
    "while True:\n",
    "\t\n",
    "\trandom_time = random.randint(1, 5)\n",
    "\n",
    "\t\n",
    "\ttime.sleep(random_time)\n",
    "\n",
    "\t\n",
    "\tsnapshot = ImageGrab.grab()\n",
    "\n",
    "\t\n",
    "\tfile_name = str(time.time())+\".png\"\n",
    "\tsnapshot.save(file_name)"
   ]
  }
 ],
 "metadata": {
  "kernelspec": {
   "display_name": "Python 3 (ipykernel)",
   "language": "python",
   "name": "python3"
  },
  "language_info": {
   "codemirror_mode": {
    "name": "ipython",
    "version": 3
   },
   "file_extension": ".py",
   "mimetype": "text/x-python",
   "name": "python",
   "nbconvert_exporter": "python",
   "pygments_lexer": "ipython3",
   "version": "3.12.2"
  }
 },
 "nbformat": 4,
 "nbformat_minor": 5
}
